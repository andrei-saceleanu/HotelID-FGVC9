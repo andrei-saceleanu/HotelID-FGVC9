{
 "cells": [
  {
   "cell_type": "code",
   "execution_count": 1,
   "id": "10f9e7e5",
   "metadata": {
    "execution": {
     "iopub.execute_input": "2024-05-04T09:26:42.876125Z",
     "iopub.status.busy": "2024-05-04T09:26:42.875788Z",
     "iopub.status.idle": "2024-05-04T09:26:53.479823Z",
     "shell.execute_reply": "2024-05-04T09:26:53.479055Z"
    },
    "papermill": {
     "duration": 10.613306,
     "end_time": "2024-05-04T09:26:53.482201",
     "exception": false,
     "start_time": "2024-05-04T09:26:42.868895",
     "status": "completed"
    },
    "tags": []
   },
   "outputs": [],
   "source": [
    "import os\n",
    "import cv2\n",
    "import json\n",
    "import torch\n",
    "import torch.nn as nn\n",
    "import numpy as np\n",
    "import pandas as pd\n",
    "import timm\n",
    "import math\n",
    "import torch.nn.functional as F\n",
    "\n",
    "from itertools import count\n",
    "from tqdm import tqdm\n",
    "import albumentations as aug\n",
    "import albumentations.pytorch as APT\n",
    "from torch.utils.data import Dataset, DataLoader\n",
    "from PIL import Image, ImageOps"
   ]
  },
  {
   "cell_type": "code",
   "execution_count": 2,
   "id": "438c53c2",
   "metadata": {
    "execution": {
     "iopub.execute_input": "2024-05-04T09:26:53.494669Z",
     "iopub.status.busy": "2024-05-04T09:26:53.494245Z",
     "iopub.status.idle": "2024-05-04T09:26:53.567491Z",
     "shell.execute_reply": "2024-05-04T09:26:53.566657Z"
    },
    "papermill": {
     "duration": 0.081374,
     "end_time": "2024-05-04T09:26:53.569376",
     "exception": false,
     "start_time": "2024-05-04T09:26:53.488002",
     "status": "completed"
    },
    "tags": []
   },
   "outputs": [],
   "source": [
    "device = \"cuda\" if torch.cuda.is_available() else \"cpu\""
   ]
  },
  {
   "cell_type": "code",
   "execution_count": 3,
   "id": "27e5edbb",
   "metadata": {
    "execution": {
     "iopub.execute_input": "2024-05-04T09:26:53.581770Z",
     "iopub.status.busy": "2024-05-04T09:26:53.581491Z",
     "iopub.status.idle": "2024-05-04T09:26:53.770002Z",
     "shell.execute_reply": "2024-05-04T09:26:53.769066Z"
    },
    "papermill": {
     "duration": 0.19745,
     "end_time": "2024-05-04T09:26:53.772229",
     "exception": false,
     "start_time": "2024-05-04T09:26:53.574779",
     "status": "completed"
    },
    "tags": []
   },
   "outputs": [],
   "source": [
    "class ArcMarginProduct(nn.Module):\n",
    "    r\"\"\"Implement of large margin arc distance: :\n",
    "    Args:\n",
    "        in_features: size of each input sample\n",
    "        out_features: size of each output sample\n",
    "        s: norm of input feature\n",
    "        m: margin\n",
    "        cos(theta + m)\n",
    "    \"\"\"\n",
    "\n",
    "    def __init__(\n",
    "        self, in_features, out_features, s=30.0, m=0.50, easy_margin=False, device=\"cuda\"\n",
    "    ):\n",
    "        super(ArcMarginProduct, self).__init__()\n",
    "        self.in_features = in_features\n",
    "        self.out_features = out_features\n",
    "        self.s = s\n",
    "        self.m = m\n",
    "        self.weight = nn.Parameter(torch.FloatTensor(out_features, in_features))\n",
    "        nn.init.xavier_uniform_(self.weight)\n",
    "\n",
    "        self.easy_margin = easy_margin\n",
    "        self.cos_m = math.cos(m)\n",
    "        self.sin_m = math.sin(m)\n",
    "        self.th = math.cos(math.pi - m)\n",
    "        self.mm = math.sin(math.pi - m) * m\n",
    "        self.device = device\n",
    "\n",
    "    def forward(self, input, label):\n",
    "        cosine = F.linear(F.normalize(input), F.normalize(self.weight))\n",
    "        sine = torch.sqrt((1.0 - torch.pow(cosine, 2)).clamp(0, 1))\n",
    "        phi = cosine * self.cos_m - sine * self.sin_m\n",
    "        if self.easy_margin:\n",
    "            phi = torch.where(cosine > 0, phi, cosine)\n",
    "        else:\n",
    "            phi = torch.where(cosine > self.th, phi, cosine - self.mm)\n",
    "        one_hot = torch.zeros(cosine.size(), device=self.device)\n",
    "        one_hot.scatter_(1, label.view(-1, 1).long(), 1)\n",
    "        output = (one_hot * phi) + ((1.0 - one_hot) * cosine)\n",
    "        output *= self.s\n",
    "\n",
    "        return output\n",
    "\n",
    "class HotelIdBackbone(nn.Module):\n",
    "    \"\"\"Adapted from michaln's work on Hotel-ID 2021\"\"\"\n",
    "\n",
    "    def __init__(self, embed_size=256, backbone_name=\"efficientnet_b3\"):\n",
    "        super(HotelIdBackbone, self).__init__()\n",
    "\n",
    "        self.embed_size = embed_size\n",
    "        self.backbone = timm.create_model(backbone_name, pretrained=False)\n",
    "        in_features = self.backbone.get_classifier().in_features\n",
    "\n",
    "        fc_name, _ = list(self.backbone.named_modules())[-1]\n",
    "        if fc_name == \"classifier\":\n",
    "            self.backbone.classifier = nn.Identity()\n",
    "        elif fc_name == \"head.fc\":\n",
    "            self.backbone.head.fc = nn.Identity()\n",
    "        elif fc_name == \"fc\":\n",
    "            self.backbone.fc = nn.Identity()\n",
    "        elif fc_name == \"head.flatten\":\n",
    "            self.backbone.head.fc = nn.Identity()\n",
    "        elif fc_name == \"head\":\n",
    "            self.backbone.head = nn.Identity()\n",
    "        else:\n",
    "            raise Exception(\"unknown classifier layer: \" + fc_name)\n",
    "\n",
    "        self.post = nn.Sequential(\n",
    "            nn.utils.weight_norm(nn.Linear(in_features, self.embed_size * 2), dim=None),\n",
    "            nn.BatchNorm1d(self.embed_size * 2),\n",
    "            nn.Dropout(0.2),\n",
    "            nn.utils.weight_norm(nn.Linear(self.embed_size * 2, self.embed_size)),\n",
    "            nn.BatchNorm1d(self.embed_size)\n",
    "        )\n",
    "\n",
    "    def forward(self, input):\n",
    "        x = self.backbone(input)\n",
    "        x = x.view(x.size(0), -1)\n",
    "        x = self.post(x)\n",
    "        return x\n",
    "\n",
    "class HotelID(nn.Module):\n",
    "    def __init__(\n",
    "        self,\n",
    "        num_embedding: int,\n",
    "        num_hotels: int,\n",
    "        backbone: str,\n",
    "        **kwargs\n",
    "    ):\n",
    "        super(HotelID, self).__init__(**kwargs)\n",
    "\n",
    "        self.num_embedding = num_embedding\n",
    "        self.num_hotels = num_hotels\n",
    "\n",
    "        # Embedding layer\n",
    "        self.embedding_layer = HotelIdBackbone(\n",
    "            self.num_embedding, backbone\n",
    "        )\n",
    "\n",
    "        # Use ArcMargin as our prediction, before the cross-entropy loss\n",
    "        self.prediction_layer = ArcMarginProduct(\n",
    "            self.num_embedding,\n",
    "            self.num_hotels,\n",
    "            s=30.0,\n",
    "            m=0.20,\n",
    "            easy_margin=False\n",
    "        )\n",
    "\n",
    "    def embed(self, inputs):\n",
    "        return self.embedding_layer(inputs)\n",
    "\n",
    "    def forward(self, inputs, labels=None):\n",
    "\n",
    "        embeddings = self.embed(inputs)\n",
    "        if labels is not None:\n",
    "            preds = self.prediction_layer(embeddings, labels)\n",
    "            return embeddings, preds\n",
    "        return embeddings"
   ]
  },
  {
   "cell_type": "code",
   "execution_count": 4,
   "id": "74f653f8",
   "metadata": {
    "execution": {
     "iopub.execute_input": "2024-05-04T09:26:53.784615Z",
     "iopub.status.busy": "2024-05-04T09:26:53.783936Z",
     "iopub.status.idle": "2024-05-04T09:26:53.795558Z",
     "shell.execute_reply": "2024-05-04T09:26:53.794754Z"
    },
    "papermill": {
     "duration": 0.019646,
     "end_time": "2024-05-04T09:26:53.797438",
     "exception": false,
     "start_time": "2024-05-04T09:26:53.777792",
     "status": "completed"
    },
    "tags": []
   },
   "outputs": [],
   "source": [
    "TEST_TRANSFORM = aug.Compose(\n",
    "    [\n",
    "        aug.Resize(width=512, height=512),\n",
    "        aug.Normalize(\n",
    "            mean=(0.485, 0.456, 0.406),\n",
    "            std=(0.229, 0.224, 0.225),\n",
    "            max_pixel_value=255.0\n",
    "        ),\n",
    "        aug.ToFloat(),\n",
    "        APT.transforms.ToTensorV2(),\n",
    "    ]\n",
    ")\n",
    "\n",
    "class ImageDataset(Dataset):\n",
    "\n",
    "    def __init__(self, img_paths, ids=None, labels=False, transform=None, **kwargs) -> None:\n",
    "        super(ImageDataset, self).__init__(**kwargs)\n",
    "        self.images = sorted([os.path.abspath(elem) for elem in img_paths])\n",
    "        self.transform = transform\n",
    "\n",
    "        if labels:\n",
    "            assert ids is not None, \"Hotel ids should be provided at training\"\n",
    "            self.hotel_ids = list(sorted(ids))\n",
    "            self.id2label = {k:v for k, v in zip(self.hotel_ids, count())}\n",
    "\n",
    "        self.get_func = self.train_get if labels else self.test_get\n",
    "\n",
    "    def __len__(self):\n",
    "        return len(self.images)\n",
    "\n",
    "\n",
    "    def train_get(self, idx):\n",
    "        img_path = self.images[idx]\n",
    "        hotel_id = img_path.split(os.sep)[-2]\n",
    "        label = self.id2label[hotel_id]\n",
    "        img = cv2.cvtColor(cv2.imread(img_path), cv2.COLOR_BGR2RGB)\n",
    "\n",
    "        return {\n",
    "            \"img\": self.transform(image=img)[\"image\"],\n",
    "            \"label\": label,\n",
    "            \"id\": int(hotel_id)\n",
    "        }\n",
    "\n",
    "    def test_get(self, idx):\n",
    "\n",
    "        img_path = self.images[idx]\n",
    "        img = cv2.cvtColor(cv2.imread(img_path), cv2.COLOR_BGR2RGB)\n",
    "\n",
    "        return {\n",
    "            \"img\": self.transform(image=img)[\"image\"]\n",
    "        }\n",
    "\n",
    "    def __getitem__(self, idx):\n",
    "        return self.get_func(idx)"
   ]
  },
  {
   "cell_type": "code",
   "execution_count": 5,
   "id": "2a1f54ec",
   "metadata": {
    "execution": {
     "iopub.execute_input": "2024-05-04T09:26:53.809064Z",
     "iopub.status.busy": "2024-05-04T09:26:53.808788Z",
     "iopub.status.idle": "2024-05-04T09:26:53.813597Z",
     "shell.execute_reply": "2024-05-04T09:26:53.812762Z"
    },
    "papermill": {
     "duration": 0.012787,
     "end_time": "2024-05-04T09:26:53.815411",
     "exception": false,
     "start_time": "2024-05-04T09:26:53.802624",
     "status": "completed"
    },
    "tags": []
   },
   "outputs": [],
   "source": [
    "def get_model(num_embedding, num_classes, backbone_name, checkpoint_path, device):\n",
    "    model = HotelID(num_embedding, num_classes, backbone_name)\n",
    "        \n",
    "    checkpoint = torch.load(checkpoint_path, map_location=device)\n",
    "    model.load_state_dict(checkpoint[\"state_dict\"])\n",
    "    model = model.to(device)\n",
    "    \n",
    "    return model"
   ]
  },
  {
   "cell_type": "code",
   "execution_count": 6,
   "id": "867e15f7",
   "metadata": {
    "execution": {
     "iopub.execute_input": "2024-05-04T09:26:53.827077Z",
     "iopub.status.busy": "2024-05-04T09:26:53.826790Z",
     "iopub.status.idle": "2024-05-04T09:26:53.844144Z",
     "shell.execute_reply": "2024-05-04T09:26:53.843482Z"
    },
    "papermill": {
     "duration": 0.025286,
     "end_time": "2024-05-04T09:26:53.845900",
     "exception": false,
     "start_time": "2024-05-04T09:26:53.820614",
     "status": "completed"
    },
    "tags": []
   },
   "outputs": [],
   "source": [
    "with open(\"/kaggle/input/id2label/id2label.json\", \"r\") as fin:\n",
    "    id2label = json.load(fin)\n",
    "\n",
    "label2id = {v:k for k, v in id2label.items()}\n",
    "num_classes = len(id2label)"
   ]
  },
  {
   "cell_type": "code",
   "execution_count": 7,
   "id": "ca56bbf4",
   "metadata": {
    "execution": {
     "iopub.execute_input": "2024-05-04T09:26:53.857917Z",
     "iopub.status.busy": "2024-05-04T09:26:53.857219Z",
     "iopub.status.idle": "2024-05-04T09:27:04.104339Z",
     "shell.execute_reply": "2024-05-04T09:27:04.103192Z"
    },
    "papermill": {
     "duration": 10.255705,
     "end_time": "2024-05-04T09:27:04.106867",
     "exception": false,
     "start_time": "2024-05-04T09:26:53.851162",
     "status": "completed"
    },
    "tags": []
   },
   "outputs": [
    {
     "name": "stderr",
     "output_type": "stream",
     "text": [
      "/opt/conda/lib/python3.10/site-packages/torch/nn/utils/weight_norm.py:30: UserWarning: torch.nn.utils.weight_norm is deprecated in favor of torch.nn.utils.parametrizations.weight_norm.\n",
      "  warnings.warn(\"torch.nn.utils.weight_norm is deprecated in favor of torch.nn.utils.parametrizations.weight_norm.\")\n"
     ]
    }
   ],
   "source": [
    "model = get_model(num_embedding=4096, num_classes=num_classes, backbone_name=\"eca_nfnet_l2\", checkpoint_path=\"/kaggle/input/hotelid/pytorch/m2_v3_eca/1/ckpt_19_eca_nfnet_l2.pth\", device=device)"
   ]
  },
  {
   "cell_type": "code",
   "execution_count": 8,
   "id": "db3e763a",
   "metadata": {
    "execution": {
     "iopub.execute_input": "2024-05-04T09:27:04.119081Z",
     "iopub.status.busy": "2024-05-04T09:27:04.118763Z",
     "iopub.status.idle": "2024-05-04T09:27:04.123423Z",
     "shell.execute_reply": "2024-05-04T09:27:04.122567Z"
    },
    "papermill": {
     "duration": 0.012739,
     "end_time": "2024-05-04T09:27:04.125257",
     "exception": false,
     "start_time": "2024-05-04T09:27:04.112518",
     "status": "completed"
    },
    "tags": []
   },
   "outputs": [],
   "source": [
    "PROJECT_FOLDER = \"/kaggle/input/hotel-id-to-combat-human-trafficking-2022-fgvc9/\"\n",
    "TEST_FOLDER = os.path.join(PROJECT_FOLDER, \"test_images/\")\n",
    "TRAIN_FOLDER = os.path.join(PROJECT_FOLDER, \"train_images/\")"
   ]
  },
  {
   "cell_type": "code",
   "execution_count": 9,
   "id": "9b2a628b",
   "metadata": {
    "execution": {
     "iopub.execute_input": "2024-05-04T09:27:04.136947Z",
     "iopub.status.busy": "2024-05-04T09:27:04.136486Z",
     "iopub.status.idle": "2024-05-04T09:27:04.140428Z",
     "shell.execute_reply": "2024-05-04T09:27:04.139590Z"
    },
    "papermill": {
     "duration": 0.011855,
     "end_time": "2024-05-04T09:27:04.142402",
     "exception": false,
     "start_time": "2024-05-04T09:27:04.130547",
     "status": "completed"
    },
    "tags": []
   },
   "outputs": [],
   "source": [
    "from glob import glob"
   ]
  },
  {
   "cell_type": "code",
   "execution_count": 10,
   "id": "f2703bc4",
   "metadata": {
    "execution": {
     "iopub.execute_input": "2024-05-04T09:27:04.153827Z",
     "iopub.status.busy": "2024-05-04T09:27:04.153590Z",
     "iopub.status.idle": "2024-05-04T09:27:18.796020Z",
     "shell.execute_reply": "2024-05-04T09:27:18.795236Z"
    },
    "papermill": {
     "duration": 14.650765,
     "end_time": "2024-05-04T09:27:18.798396",
     "exception": false,
     "start_time": "2024-05-04T09:27:04.147631",
     "status": "completed"
    },
    "tags": []
   },
   "outputs": [],
   "source": [
    "dset = ImageDataset(sorted(glob(os.path.join(TRAIN_FOLDER, \"**\", \"*.jpg\"), recursive=True)), transform=TEST_TRANSFORM, ids=list(id2label.keys()), labels=True)\n",
    "base_loader = DataLoader(dset, batch_size=16, shuffle=False)"
   ]
  },
  {
   "cell_type": "code",
   "execution_count": 11,
   "id": "37c3fc52",
   "metadata": {
    "execution": {
     "iopub.execute_input": "2024-05-04T09:27:18.811099Z",
     "iopub.status.busy": "2024-05-04T09:27:18.810356Z",
     "iopub.status.idle": "2024-05-04T09:27:18.815150Z",
     "shell.execute_reply": "2024-05-04T09:27:18.814304Z"
    },
    "papermill": {
     "duration": 0.012944,
     "end_time": "2024-05-04T09:27:18.816969",
     "exception": false,
     "start_time": "2024-05-04T09:27:18.804025",
     "status": "completed"
    },
    "tags": []
   },
   "outputs": [],
   "source": [
    "base_embeddings = torch.tensor([], device=device)\n",
    "base_hotel_ids = torch.tensor([], device=device)"
   ]
  },
  {
   "cell_type": "code",
   "execution_count": 12,
   "id": "ac82ea47",
   "metadata": {
    "execution": {
     "iopub.execute_input": "2024-05-04T09:27:18.828512Z",
     "iopub.status.busy": "2024-05-04T09:27:18.828241Z",
     "iopub.status.idle": "2024-05-04T10:21:58.888864Z",
     "shell.execute_reply": "2024-05-04T10:21:58.887788Z"
    },
    "papermill": {
     "duration": 3280.06916,
     "end_time": "2024-05-04T10:21:58.891410",
     "exception": false,
     "start_time": "2024-05-04T09:27:18.822250",
     "status": "completed"
    },
    "tags": []
   },
   "outputs": [
    {
     "name": "stderr",
     "output_type": "stream",
     "text": [
      "100%|██████████| 2794/2794 [54:40<00:00,  1.17s/it]\n"
     ]
    }
   ],
   "source": [
    "model.eval()\n",
    "with torch.no_grad():\n",
    "    for batch in tqdm(base_loader):\n",
    "        batch = {k:v.to(device) for k, v in batch.items()}\n",
    "        inputs = batch[\"img\"]\n",
    "        ids = batch[\"id\"]\n",
    "        base_embeddings = torch.cat((base_embeddings, model(inputs)))\n",
    "        base_hotel_ids = torch.cat((base_hotel_ids, ids))"
   ]
  },
  {
   "cell_type": "code",
   "execution_count": 13,
   "id": "3efd84f2",
   "metadata": {
    "execution": {
     "iopub.execute_input": "2024-05-04T10:21:59.334851Z",
     "iopub.status.busy": "2024-05-04T10:21:59.334481Z",
     "iopub.status.idle": "2024-05-04T10:21:59.342207Z",
     "shell.execute_reply": "2024-05-04T10:21:59.341451Z"
    },
    "papermill": {
     "duration": 0.2328,
     "end_time": "2024-05-04T10:21:59.344249",
     "exception": false,
     "start_time": "2024-05-04T10:21:59.111449",
     "status": "completed"
    },
    "tags": []
   },
   "outputs": [],
   "source": [
    "test_files = sorted([os.path.join(TEST_FOLDER, elem) for elem in os.listdir(TEST_FOLDER)])\n",
    "predictions = []"
   ]
  },
  {
   "cell_type": "code",
   "execution_count": 14,
   "id": "3799857d",
   "metadata": {
    "execution": {
     "iopub.execute_input": "2024-05-04T10:21:59.790691Z",
     "iopub.status.busy": "2024-05-04T10:21:59.790030Z",
     "iopub.status.idle": "2024-05-04T10:22:00.168387Z",
     "shell.execute_reply": "2024-05-04T10:22:00.167427Z"
    },
    "papermill": {
     "duration": 0.605622,
     "end_time": "2024-05-04T10:22:00.170997",
     "exception": false,
     "start_time": "2024-05-04T10:21:59.565375",
     "status": "completed"
    },
    "tags": []
   },
   "outputs": [
    {
     "name": "stderr",
     "output_type": "stream",
     "text": [
      "100%|██████████| 1/1 [00:00<00:00,  2.72it/s]\n"
     ]
    }
   ],
   "source": [
    "with torch.no_grad():\n",
    "    for image_file in tqdm(test_files):\n",
    "        prediction = []\n",
    "\n",
    "        image = cv2.cvtColor(cv2.imread(image_file),cv2.COLOR_BGR2RGB)\n",
    "        image = TEST_TRANSFORM(image=image)[\"image\"]\n",
    "        image = image.unsqueeze(0)\n",
    "        image = image.to(device)\n",
    "\n",
    "        embedding = model(image)\n",
    "        distances = torch.cosine_similarity(embedding, base_embeddings)\n",
    "        sorted_dist, indices = distances.sort(descending=True)\n",
    "        for hid in base_hotel_ids[indices]:\n",
    "            if hid in prediction:\n",
    "                continue\n",
    "            prediction.append(hid)\n",
    "            if len(prediction) == 5:\n",
    "                break\n",
    "        predictions.append(\" \".join(str(int(pred)) for pred in prediction))"
   ]
  },
  {
   "cell_type": "code",
   "execution_count": 15,
   "id": "ca5756a2",
   "metadata": {
    "execution": {
     "iopub.execute_input": "2024-05-04T10:22:00.674960Z",
     "iopub.status.busy": "2024-05-04T10:22:00.674092Z",
     "iopub.status.idle": "2024-05-04T10:22:00.688734Z",
     "shell.execute_reply": "2024-05-04T10:22:00.687918Z"
    },
    "papermill": {
     "duration": 0.299438,
     "end_time": "2024-05-04T10:22:00.690822",
     "exception": false,
     "start_time": "2024-05-04T10:22:00.391384",
     "status": "completed"
    },
    "tags": []
   },
   "outputs": [],
   "source": [
    "df = pd.DataFrame(\n",
    "    data={\n",
    "        \"image_id\": (os.path.basename(path) for path in test_files),\n",
    "        \"hotel_id\": predictions,\n",
    "    }\n",
    ").sort_values(by=\"image_id\")"
   ]
  },
  {
   "cell_type": "code",
   "execution_count": 16,
   "id": "43365ff9",
   "metadata": {
    "execution": {
     "iopub.execute_input": "2024-05-04T10:22:01.151239Z",
     "iopub.status.busy": "2024-05-04T10:22:01.150406Z",
     "iopub.status.idle": "2024-05-04T10:22:01.159584Z",
     "shell.execute_reply": "2024-05-04T10:22:01.158685Z"
    },
    "papermill": {
     "duration": 0.232225,
     "end_time": "2024-05-04T10:22:01.161449",
     "exception": false,
     "start_time": "2024-05-04T10:22:00.929224",
     "status": "completed"
    },
    "tags": []
   },
   "outputs": [],
   "source": [
    "df.to_csv(\"submission.csv\", index=False)"
   ]
  },
  {
   "cell_type": "code",
   "execution_count": null,
   "id": "375983d8",
   "metadata": {
    "papermill": {
     "duration": 0.218241,
     "end_time": "2024-05-04T10:22:01.600789",
     "exception": false,
     "start_time": "2024-05-04T10:22:01.382548",
     "status": "completed"
    },
    "tags": []
   },
   "outputs": [],
   "source": []
  }
 ],
 "metadata": {
  "kaggle": {
   "accelerator": "nvidiaTeslaT4",
   "dataSources": [
    {
     "databundleVersionId": 4957097,
     "sourceId": 35150,
     "sourceType": "competition"
    },
    {
     "datasetId": 4844465,
     "sourceId": 8182281,
     "sourceType": "datasetVersion"
    },
    {
     "isSourceIdPinned": true,
     "modelInstanceId": 35840,
     "sourceId": 42652,
     "sourceType": "modelInstanceVersion"
    },
    {
     "isSourceIdPinned": true,
     "modelInstanceId": 36097,
     "sourceId": 42967,
     "sourceType": "modelInstanceVersion"
    },
    {
     "isSourceIdPinned": true,
     "modelInstanceId": 36460,
     "sourceId": 43414,
     "sourceType": "modelInstanceVersion"
    }
   ],
   "dockerImageVersionId": 30699,
   "isGpuEnabled": true,
   "isInternetEnabled": false,
   "language": "python",
   "sourceType": "notebook"
  },
  "kernelspec": {
   "display_name": "Python 3",
   "language": "python",
   "name": "python3"
  },
  "language_info": {
   "codemirror_mode": {
    "name": "ipython",
    "version": 3
   },
   "file_extension": ".py",
   "mimetype": "text/x-python",
   "name": "python",
   "nbconvert_exporter": "python",
   "pygments_lexer": "ipython3",
   "version": "3.10.13"
  },
  "papermill": {
   "default_parameters": {},
   "duration": 3324.972571,
   "end_time": "2024-05-04T10:22:04.834618",
   "environment_variables": {},
   "exception": null,
   "input_path": "__notebook__.ipynb",
   "output_path": "__notebook__.ipynb",
   "parameters": {},
   "start_time": "2024-05-04T09:26:39.862047",
   "version": "2.5.0"
  }
 },
 "nbformat": 4,
 "nbformat_minor": 5
}

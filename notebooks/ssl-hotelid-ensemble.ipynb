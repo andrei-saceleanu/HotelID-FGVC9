{
 "cells": [
  {
   "cell_type": "code",
   "execution_count": 1,
   "id": "eca4963d",
   "metadata": {
    "execution": {
     "iopub.execute_input": "2024-05-11T10:49:27.496184Z",
     "iopub.status.busy": "2024-05-11T10:49:27.495374Z",
     "iopub.status.idle": "2024-05-11T10:49:38.243847Z",
     "shell.execute_reply": "2024-05-11T10:49:38.243087Z"
    },
    "papermill": {
     "duration": 10.757261,
     "end_time": "2024-05-11T10:49:38.246167",
     "exception": false,
     "start_time": "2024-05-11T10:49:27.488906",
     "status": "completed"
    },
    "tags": []
   },
   "outputs": [],
   "source": [
    "import os\n",
    "import cv2\n",
    "import json\n",
    "import torch\n",
    "import torch.nn as nn\n",
    "import numpy as np\n",
    "import pandas as pd\n",
    "import timm\n",
    "import math\n",
    "import torch.nn.functional as F\n",
    "import albumentations as aug\n",
    "import albumentations.pytorch as APT\n",
    "\n",
    "from itertools import count\n",
    "from tqdm import tqdm\n",
    "from torch.utils.data import Dataset"
   ]
  },
  {
   "cell_type": "code",
   "execution_count": 2,
   "id": "0b803614",
   "metadata": {
    "execution": {
     "iopub.execute_input": "2024-05-11T10:49:38.257477Z",
     "iopub.status.busy": "2024-05-11T10:49:38.256746Z",
     "iopub.status.idle": "2024-05-11T10:49:38.331262Z",
     "shell.execute_reply": "2024-05-11T10:49:38.330284Z"
    },
    "papermill": {
     "duration": 0.081919,
     "end_time": "2024-05-11T10:49:38.333204",
     "exception": false,
     "start_time": "2024-05-11T10:49:38.251285",
     "status": "completed"
    },
    "tags": []
   },
   "outputs": [],
   "source": [
    "device = \"cuda\" if torch.cuda.is_available() else \"cpu\""
   ]
  },
  {
   "cell_type": "code",
   "execution_count": 3,
   "id": "1a24c5da",
   "metadata": {
    "execution": {
     "iopub.execute_input": "2024-05-11T10:49:38.344270Z",
     "iopub.status.busy": "2024-05-11T10:49:38.343956Z",
     "iopub.status.idle": "2024-05-11T10:49:38.535780Z",
     "shell.execute_reply": "2024-05-11T10:49:38.534851Z"
    },
    "papermill": {
     "duration": 0.199751,
     "end_time": "2024-05-11T10:49:38.537663",
     "exception": false,
     "start_time": "2024-05-11T10:49:38.337912",
     "status": "completed"
    },
    "tags": []
   },
   "outputs": [],
   "source": [
    "class ArcMarginProduct(nn.Module):\n",
    "    r\"\"\"Implement of large margin arc distance: :\n",
    "    Args:\n",
    "        in_features: size of each input sample\n",
    "        out_features: size of each output sample\n",
    "        s: norm of input feature\n",
    "        m: margin\n",
    "        cos(theta + m)\n",
    "    \"\"\"\n",
    "\n",
    "    def __init__(\n",
    "        self, in_features, out_features, s=30.0, m=0.50, easy_margin=False, device=\"cuda\"\n",
    "    ):\n",
    "        super(ArcMarginProduct, self).__init__()\n",
    "        self.in_features = in_features\n",
    "        self.out_features = out_features\n",
    "        self.s = s\n",
    "        self.m = m\n",
    "        self.weight = nn.Parameter(torch.FloatTensor(out_features, in_features))\n",
    "        nn.init.xavier_uniform_(self.weight)\n",
    "\n",
    "        self.easy_margin = easy_margin\n",
    "        self.cos_m = math.cos(m)\n",
    "        self.sin_m = math.sin(m)\n",
    "        self.th = math.cos(math.pi - m)\n",
    "        self.mm = math.sin(math.pi - m) * m\n",
    "        self.device = device\n",
    "\n",
    "    def forward(self, input, label):\n",
    "        cosine = F.linear(F.normalize(input), F.normalize(self.weight))\n",
    "        sine = torch.sqrt((1.0 - torch.pow(cosine, 2)).clamp(0, 1))\n",
    "        phi = cosine * self.cos_m - sine * self.sin_m\n",
    "        if self.easy_margin:\n",
    "            phi = torch.where(cosine > 0, phi, cosine)\n",
    "        else:\n",
    "            phi = torch.where(cosine > self.th, phi, cosine - self.mm)\n",
    "        one_hot = torch.zeros(cosine.size(), device=self.device)\n",
    "        one_hot.scatter_(1, label.view(-1, 1).long(), 1)\n",
    "        output = (one_hot * phi) + ((1.0 - one_hot) * cosine)\n",
    "        output *= self.s\n",
    "\n",
    "        return output\n",
    "\n",
    "class HotelIdBackbone(nn.Module):\n",
    "    \"\"\"Adapted from michaln's work on Hotel-ID 2021\"\"\"\n",
    "\n",
    "    def __init__(self, embed_size=256, backbone_name=\"efficientnet_b3\"):\n",
    "        super(HotelIdBackbone, self).__init__()\n",
    "\n",
    "        self.embed_size = embed_size\n",
    "        if \"vit\" in backbone_name:\n",
    "            self.backbone = timm.create_model(backbone_name, img_size=512, pretrained=False)\n",
    "        else:\n",
    "            self.backbone = timm.create_model(backbone_name, pretrained=False)\n",
    "\n",
    "        in_features = getattr(self.backbone.get_classifier(), \"in_features\", 768)\n",
    "\n",
    "        fc_name, _ = list(self.backbone.named_modules())[-1]\n",
    "        if fc_name == \"classifier\":\n",
    "            self.backbone.classifier = nn.Identity()\n",
    "        elif fc_name == \"head.fc\":\n",
    "            self.backbone.head.fc = nn.Identity()\n",
    "        elif fc_name == \"fc\":\n",
    "            self.backbone.fc = nn.Identity()\n",
    "        elif fc_name == \"head.flatten\":\n",
    "            self.backbone.head.fc = nn.Identity()\n",
    "        elif fc_name == \"head\":\n",
    "            self.backbone.head = nn.Identity()\n",
    "        else:\n",
    "            raise Exception(\"unknown classifier layer: \" + fc_name)\n",
    "\n",
    "        self.post = nn.Sequential(\n",
    "            nn.utils.weight_norm(nn.Linear(in_features, self.embed_size * 2), dim=None),\n",
    "            nn.BatchNorm1d(self.embed_size * 2),\n",
    "            nn.Dropout(0.2),\n",
    "            nn.utils.weight_norm(nn.Linear(self.embed_size * 2, self.embed_size)),\n",
    "            nn.BatchNorm1d(self.embed_size)\n",
    "        )\n",
    "\n",
    "    def forward(self, input):\n",
    "        x = self.backbone(input)\n",
    "        x = x.view(x.size(0), -1)\n",
    "        x = self.post(x)\n",
    "        return x\n",
    "\n",
    "class HotelID(nn.Module):\n",
    "    def __init__(\n",
    "        self,\n",
    "        num_embedding: int,\n",
    "        num_hotels: int,\n",
    "        backbone: str,\n",
    "        **kwargs\n",
    "    ):\n",
    "        super(HotelID, self).__init__(**kwargs)\n",
    "\n",
    "        self.num_embedding = num_embedding\n",
    "        self.num_hotels = num_hotels\n",
    "\n",
    "        # Embedding layer\n",
    "        self.embedding_layer = HotelIdBackbone(\n",
    "            self.num_embedding, backbone\n",
    "        )\n",
    "\n",
    "        # Use ArcMargin as our prediction, before the cross-entropy loss\n",
    "        self.prediction_layer = ArcMarginProduct(\n",
    "            self.num_embedding,\n",
    "            self.num_hotels,\n",
    "            s=30.0,\n",
    "            m=0.20,\n",
    "            easy_margin=False\n",
    "        )\n",
    "\n",
    "    def embed(self, inputs):\n",
    "        return self.embedding_layer(inputs)\n",
    "\n",
    "    def forward(self, inputs, labels=None):\n",
    "\n",
    "        embeddings = self.embed(inputs)\n",
    "        if labels is not None:\n",
    "            preds = self.prediction_layer(embeddings, labels)\n",
    "            return embeddings, preds\n",
    "        return embeddings"
   ]
  },
  {
   "cell_type": "code",
   "execution_count": 4,
   "id": "3525fab1",
   "metadata": {
    "execution": {
     "iopub.execute_input": "2024-05-11T10:49:38.549011Z",
     "iopub.status.busy": "2024-05-11T10:49:38.548424Z",
     "iopub.status.idle": "2024-05-11T10:49:38.560524Z",
     "shell.execute_reply": "2024-05-11T10:49:38.559594Z"
    },
    "papermill": {
     "duration": 0.01973,
     "end_time": "2024-05-11T10:49:38.562500",
     "exception": false,
     "start_time": "2024-05-11T10:49:38.542770",
     "status": "completed"
    },
    "tags": []
   },
   "outputs": [],
   "source": [
    "TEST_TRANSFORM = aug.Compose(\n",
    "    [\n",
    "        aug.Resize(width=512, height=512),\n",
    "        aug.Normalize(\n",
    "            mean=(0.485, 0.456, 0.406),\n",
    "            std=(0.229, 0.224, 0.225),\n",
    "            max_pixel_value=255.0\n",
    "        ),\n",
    "        aug.ToFloat(),\n",
    "        APT.transforms.ToTensorV2(),\n",
    "    ]\n",
    ")\n",
    "\n",
    "class ImageDataset(Dataset):\n",
    "\n",
    "    def __init__(self, img_paths, ids=None, labels=False, transform=None, **kwargs) -> None:\n",
    "        super(ImageDataset, self).__init__(**kwargs)\n",
    "        self.images = sorted([os.path.abspath(elem) for elem in img_paths])\n",
    "        self.transform = transform\n",
    "\n",
    "        if labels:\n",
    "            assert ids is not None, \"Hotel ids should be provided at training\"\n",
    "            self.hotel_ids = list(sorted(ids))\n",
    "            self.id2label = {k:v for k, v in zip(self.hotel_ids, count())}\n",
    "\n",
    "        self.get_func = self.train_get if labels else self.test_get\n",
    "\n",
    "    def __len__(self):\n",
    "        return len(self.images)\n",
    "\n",
    "\n",
    "    def train_get(self, idx):\n",
    "        img_path = self.images[idx]\n",
    "        hotel_id = img_path.split(os.sep)[-2]\n",
    "        label = self.id2label[hotel_id]\n",
    "        img = cv2.cvtColor(cv2.imread(img_path), cv2.COLOR_BGR2RGB)\n",
    "\n",
    "        return {\n",
    "            \"img\": self.transform(image=img)[\"image\"],\n",
    "            \"label\": label,\n",
    "            \"id\": int(hotel_id)\n",
    "        }\n",
    "\n",
    "    def test_get(self, idx):\n",
    "\n",
    "        img_path = self.images[idx]\n",
    "        img = cv2.cvtColor(cv2.imread(img_path), cv2.COLOR_BGR2RGB)\n",
    "\n",
    "        return {\n",
    "            \"img\": self.transform(image=img)[\"image\"]\n",
    "        }\n",
    "\n",
    "    def __getitem__(self, idx):\n",
    "        return self.get_func(idx)"
   ]
  },
  {
   "cell_type": "code",
   "execution_count": 5,
   "id": "0e0651e9",
   "metadata": {
    "execution": {
     "iopub.execute_input": "2024-05-11T10:49:38.573695Z",
     "iopub.status.busy": "2024-05-11T10:49:38.573050Z",
     "iopub.status.idle": "2024-05-11T10:49:38.577975Z",
     "shell.execute_reply": "2024-05-11T10:49:38.577188Z"
    },
    "papermill": {
     "duration": 0.012611,
     "end_time": "2024-05-11T10:49:38.579861",
     "exception": false,
     "start_time": "2024-05-11T10:49:38.567250",
     "status": "completed"
    },
    "tags": []
   },
   "outputs": [],
   "source": [
    "def get_model(num_embedding, num_classes, backbone_name, checkpoint_path, device):\n",
    "    model = HotelID(num_embedding, num_classes, backbone_name)\n",
    "        \n",
    "    checkpoint = torch.load(checkpoint_path, map_location=device)\n",
    "    model.load_state_dict(checkpoint[\"state_dict\"])\n",
    "    model = model.to(device)\n",
    "    \n",
    "    return model"
   ]
  },
  {
   "cell_type": "code",
   "execution_count": 6,
   "id": "e4d67c9a",
   "metadata": {
    "execution": {
     "iopub.execute_input": "2024-05-11T10:49:38.590458Z",
     "iopub.status.busy": "2024-05-11T10:49:38.589980Z",
     "iopub.status.idle": "2024-05-11T10:49:38.609110Z",
     "shell.execute_reply": "2024-05-11T10:49:38.608316Z"
    },
    "papermill": {
     "duration": 0.026478,
     "end_time": "2024-05-11T10:49:38.611068",
     "exception": false,
     "start_time": "2024-05-11T10:49:38.584590",
     "status": "completed"
    },
    "tags": []
   },
   "outputs": [],
   "source": [
    "with open(\"/kaggle/input/id2label/id2label.json\", \"r\") as fin:\n",
    "    id2label = json.load(fin)\n",
    "\n",
    "label2id = {v:k for k, v in id2label.items()}\n",
    "num_classes = len(id2label)"
   ]
  },
  {
   "cell_type": "code",
   "execution_count": 7,
   "id": "7b331b75",
   "metadata": {
    "execution": {
     "iopub.execute_input": "2024-05-11T10:49:38.621067Z",
     "iopub.status.busy": "2024-05-11T10:49:38.620819Z",
     "iopub.status.idle": "2024-05-11T10:49:55.236962Z",
     "shell.execute_reply": "2024-05-11T10:49:55.236158Z"
    },
    "papermill": {
     "duration": 16.623539,
     "end_time": "2024-05-11T10:49:55.239228",
     "exception": false,
     "start_time": "2024-05-11T10:49:38.615689",
     "status": "completed"
    },
    "tags": []
   },
   "outputs": [],
   "source": [
    "embed_data = torch.load(\"/kaggle/input/hotel-id-embeddings/index_set.pt\", map_location=device)"
   ]
  },
  {
   "cell_type": "code",
   "execution_count": 8,
   "id": "29de8f27",
   "metadata": {
    "execution": {
     "iopub.execute_input": "2024-05-11T10:49:55.250151Z",
     "iopub.status.busy": "2024-05-11T10:49:55.249883Z",
     "iopub.status.idle": "2024-05-11T10:49:55.254149Z",
     "shell.execute_reply": "2024-05-11T10:49:55.253269Z"
    },
    "papermill": {
     "duration": 0.011955,
     "end_time": "2024-05-11T10:49:55.256217",
     "exception": false,
     "start_time": "2024-05-11T10:49:55.244262",
     "status": "completed"
    },
    "tags": []
   },
   "outputs": [],
   "source": [
    "PROJECT_FOLDER = \"/kaggle/input/hotel-id-to-combat-human-trafficking-2022-fgvc9/\"\n",
    "# PROJECT_FOLDER = \"data\"\n",
    "TEST_FOLDER = os.path.join(PROJECT_FOLDER, \"test_images/\")"
   ]
  },
  {
   "cell_type": "code",
   "execution_count": 9,
   "id": "26da601c",
   "metadata": {
    "execution": {
     "iopub.execute_input": "2024-05-11T10:49:55.266566Z",
     "iopub.status.busy": "2024-05-11T10:49:55.266288Z",
     "iopub.status.idle": "2024-05-11T10:49:55.281605Z",
     "shell.execute_reply": "2024-05-11T10:49:55.280795Z"
    },
    "papermill": {
     "duration": 0.022928,
     "end_time": "2024-05-11T10:49:55.283712",
     "exception": false,
     "start_time": "2024-05-11T10:49:55.260784",
     "status": "completed"
    },
    "tags": []
   },
   "outputs": [],
   "source": [
    "test_files = sorted([os.path.join(TEST_FOLDER, elem) for elem in os.listdir(TEST_FOLDER)])\n",
    "predictions = []\n",
    "distances = torch.zeros((len(test_files), len(embed_data[\"hotel_ids\"])))"
   ]
  },
  {
   "cell_type": "code",
   "execution_count": 10,
   "id": "f761df47",
   "metadata": {
    "execution": {
     "iopub.execute_input": "2024-05-11T10:49:55.294661Z",
     "iopub.status.busy": "2024-05-11T10:49:55.294038Z",
     "iopub.status.idle": "2024-05-11T10:49:55.298827Z",
     "shell.execute_reply": "2024-05-11T10:49:55.297991Z"
    },
    "papermill": {
     "duration": 0.012166,
     "end_time": "2024-05-11T10:49:55.300717",
     "exception": false,
     "start_time": "2024-05-11T10:49:55.288551",
     "status": "completed"
    },
    "tags": []
   },
   "outputs": [],
   "source": [
    "cfg = {\n",
    "    \"ensemble\": [\n",
    "        {\n",
    "            \"backbone_name\": \"efficientnet_b3\",\n",
    "            \"checkpoint_path\": \"/kaggle/input/hotelid/pytorch/m2_v3_more/1/ckpt_19_more_data.pth\"\n",
    "        },\n",
    "        {\n",
    "            \"backbone_name\": \"eca_nfnet_l2\",\n",
    "            \"checkpoint_path\": \"/kaggle/input/hotelid/pytorch/m2_v3_eca/1/ckpt_19_eca_nfnet_l2.pth\"\n",
    "        },\n",
    "        {\n",
    "            \"backbone_name\": \"vit_small_patch16_384\",\n",
    "            \"checkpoint_path\": \"/kaggle/input/hotelid/pytorch/m2_v3_vit/1/ckpt_47_vit_small.pth\"\n",
    "        }\n",
    "    ]\n",
    "}"
   ]
  },
  {
   "cell_type": "code",
   "execution_count": 11,
   "id": "eb3f5d7b",
   "metadata": {
    "execution": {
     "iopub.execute_input": "2024-05-11T10:49:55.310999Z",
     "iopub.status.busy": "2024-05-11T10:49:55.310744Z",
     "iopub.status.idle": "2024-05-11T10:50:17.976062Z",
     "shell.execute_reply": "2024-05-11T10:50:17.974916Z"
    },
    "papermill": {
     "duration": 22.672677,
     "end_time": "2024-05-11T10:50:17.978147",
     "exception": false,
     "start_time": "2024-05-11T10:49:55.305470",
     "status": "completed"
    },
    "tags": []
   },
   "outputs": [
    {
     "name": "stderr",
     "output_type": "stream",
     "text": [
      "/opt/conda/lib/python3.10/site-packages/torch/nn/utils/weight_norm.py:30: UserWarning: torch.nn.utils.weight_norm is deprecated in favor of torch.nn.utils.parametrizations.weight_norm.\n",
      "  warnings.warn(\"torch.nn.utils.weight_norm is deprecated in favor of torch.nn.utils.parametrizations.weight_norm.\")\n",
      "Process with efficientnet_b3: 100%|██████████| 1/1 [00:01<00:00,  1.03s/it]\n",
      "Process with eca_nfnet_l2: 100%|██████████| 1/1 [00:00<00:00,  4.33it/s]\n",
      "Process with vit_small_patch16_384: 100%|██████████| 1/1 [00:00<00:00,  7.36it/s]\n"
     ]
    }
   ],
   "source": [
    "for model_cfg in cfg[\"ensemble\"]:\n",
    "    \n",
    "    model = get_model(num_embedding=4096, num_classes=num_classes, device=device, **model_cfg)\n",
    "    model.eval()\n",
    "\n",
    "    with torch.no_grad():\n",
    "        for idx, image_file in enumerate(tqdm(test_files, desc=f\"Process with {model_cfg['backbone_name']}\")):\n",
    "        \n",
    "            image = cv2.cvtColor(cv2.imread(image_file),cv2.COLOR_BGR2RGB)\n",
    "            image = TEST_TRANSFORM(image=image)[\"image\"]\n",
    "            image = image.unsqueeze(0)\n",
    "            image = image.to(device)\n",
    "\n",
    "            embedding = model(image)\n",
    "            dist_for_model = torch.cosine_similarity(embedding, embed_data[model_cfg[\"backbone_name\"]])\n",
    "            distances[idx] += dist_for_model.cpu()\n",
    "\n",
    "    del model"
   ]
  },
  {
   "cell_type": "code",
   "execution_count": 12,
   "id": "eeff01af",
   "metadata": {
    "execution": {
     "iopub.execute_input": "2024-05-11T10:50:17.991097Z",
     "iopub.status.busy": "2024-05-11T10:50:17.990824Z",
     "iopub.status.idle": "2024-05-11T10:50:18.110403Z",
     "shell.execute_reply": "2024-05-11T10:50:18.109436Z"
    },
    "papermill": {
     "duration": 0.128376,
     "end_time": "2024-05-11T10:50:18.112389",
     "exception": false,
     "start_time": "2024-05-11T10:50:17.984013",
     "status": "completed"
    },
    "tags": []
   },
   "outputs": [
    {
     "name": "stderr",
     "output_type": "stream",
     "text": [
      "100%|██████████| 1/1 [00:00<00:00,  9.06it/s]\n"
     ]
    }
   ],
   "source": [
    "base_hotel_ids = embed_data[\"hotel_ids\"]\n",
    "for idx, image_file in enumerate(tqdm(test_files)):\n",
    "    prediction = []\n",
    "    \n",
    "    sorted_dist, indices = distances[idx].sort(descending=True)\n",
    "    for hid in base_hotel_ids[indices]:\n",
    "        if hid in prediction:\n",
    "            continue\n",
    "        prediction.append(hid)\n",
    "        if len(prediction) == 5:\n",
    "            break\n",
    "    predictions.append(\" \".join(str(int(pred)) for pred in prediction))"
   ]
  },
  {
   "cell_type": "code",
   "execution_count": 13,
   "id": "bcb50ac8",
   "metadata": {
    "execution": {
     "iopub.execute_input": "2024-05-11T10:50:18.126145Z",
     "iopub.status.busy": "2024-05-11T10:50:18.125851Z",
     "iopub.status.idle": "2024-05-11T10:50:18.138720Z",
     "shell.execute_reply": "2024-05-11T10:50:18.137874Z"
    },
    "papermill": {
     "duration": 0.021944,
     "end_time": "2024-05-11T10:50:18.140666",
     "exception": false,
     "start_time": "2024-05-11T10:50:18.118722",
     "status": "completed"
    },
    "tags": []
   },
   "outputs": [],
   "source": [
    "df = pd.DataFrame(\n",
    "    data={\n",
    "        \"image_id\": (os.path.basename(path) for path in test_files),\n",
    "        \"hotel_id\": predictions,\n",
    "    }\n",
    ").sort_values(by=\"image_id\")"
   ]
  },
  {
   "cell_type": "code",
   "execution_count": 14,
   "id": "e6533f9b",
   "metadata": {
    "execution": {
     "iopub.execute_input": "2024-05-11T10:50:18.153621Z",
     "iopub.status.busy": "2024-05-11T10:50:18.153337Z",
     "iopub.status.idle": "2024-05-11T10:50:18.160707Z",
     "shell.execute_reply": "2024-05-11T10:50:18.159878Z"
    },
    "papermill": {
     "duration": 0.015999,
     "end_time": "2024-05-11T10:50:18.162647",
     "exception": false,
     "start_time": "2024-05-11T10:50:18.146648",
     "status": "completed"
    },
    "tags": []
   },
   "outputs": [],
   "source": [
    "df.to_csv(\"submission.csv\", index=False)"
   ]
  }
 ],
 "metadata": {
  "kaggle": {
   "accelerator": "nvidiaTeslaT4",
   "dataSources": [
    {
     "databundleVersionId": 4957097,
     "sourceId": 35150,
     "sourceType": "competition"
    },
    {
     "datasetId": 4844465,
     "sourceId": 8182281,
     "sourceType": "datasetVersion"
    },
    {
     "datasetId": 4985486,
     "sourceId": 8383078,
     "sourceType": "datasetVersion"
    },
    {
     "modelInstanceId": 36097,
     "sourceId": 42967,
     "sourceType": "modelInstanceVersion"
    },
    {
     "modelInstanceId": 36460,
     "sourceId": 43414,
     "sourceType": "modelInstanceVersion"
    },
    {
     "isSourceIdPinned": true,
     "modelInstanceId": 38571,
     "sourceId": 46014,
     "sourceType": "modelInstanceVersion"
    }
   ],
   "isGpuEnabled": true,
   "isInternetEnabled": false,
   "language": "python",
   "sourceType": "notebook"
  },
  "kernelspec": {
   "display_name": "Python 3",
   "language": "python",
   "name": "python3"
  },
  "language_info": {
   "codemirror_mode": {
    "name": "ipython",
    "version": 3
   },
   "file_extension": ".py",
   "mimetype": "text/x-python",
   "name": "python",
   "nbconvert_exporter": "python",
   "pygments_lexer": "ipython3",
   "version": "3.10.13"
  },
  "papermill": {
   "default_parameters": {},
   "duration": 56.331213,
   "end_time": "2024-05-11T10:50:20.852709",
   "environment_variables": {},
   "exception": null,
   "input_path": "__notebook__.ipynb",
   "output_path": "__notebook__.ipynb",
   "parameters": {},
   "start_time": "2024-05-11T10:49:24.521496",
   "version": "2.5.0"
  }
 },
 "nbformat": 4,
 "nbformat_minor": 5
}
